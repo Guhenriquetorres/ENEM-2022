{
  "nbformat": 4,
  "nbformat_minor": 0,
  "metadata": {
    "colab": {
      "private_outputs": true,
      "provenance": [],
      "mount_file_id": "1wvAr0EW7EtYRF10FWs9xB4bAcpYBFitg",
      "authorship_tag": "ABX9TyOepO9txjABXFqNbKZvAaCr",
      "include_colab_link": true
    },
    "kernelspec": {
      "name": "python3",
      "display_name": "Python 3"
    },
    "language_info": {
      "name": "python"
    }
  },
  "cells": [
    {
      "cell_type": "markdown",
      "metadata": {
        "id": "view-in-github",
        "colab_type": "text"
      },
      "source": [
        "<a href=\"https://colab.research.google.com/github/Guhenriquetorres/ENEM-2022/blob/main/Examine_Data.ipynb\" target=\"_parent\"><img src=\"https://colab.research.google.com/assets/colab-badge.svg\" alt=\"Open In Colab\"/></a>"
      ]
    },
    {
      "cell_type": "markdown",
      "source": [
        "Bibliotecas para chamar funções"
      ],
      "metadata": {
        "id": "Trhq_fGi9pbD"
      }
    },
    {
      "cell_type": "code",
      "execution_count": null,
      "metadata": {
        "id": "5P88zjvE8gmX"
      },
      "outputs": [],
      "source": [
        "import numpy as np\n",
        "import pandas as pd\n",
        "import matplotlib.pyplot as plt\n",
        "import seaborn as sns"
      ]
    },
    {
      "cell_type": "markdown",
      "source": [
        "Importar a base de dados"
      ],
      "metadata": {
        "id": "bIKSfn9H911F"
      }
    },
    {
      "cell_type": "code",
      "source": [
        "df = pd.read_csv('/ENEM_2022_ANOMALIAS.csv', sep = ';',encoding= 'Latin1')\n",
        "df.head(5)"
      ],
      "metadata": {
        "id": "LcHZmp7k902G"
      },
      "execution_count": null,
      "outputs": []
    },
    {
      "cell_type": "markdown",
      "source": [
        "# **LIST TABLE ATRIBUTE**"
      ],
      "metadata": {
        "id": "M97sPmEA9BW4"
      }
    },
    {
      "cell_type": "code",
      "source": [
        "df.dtypes"
      ],
      "metadata": {
        "id": "j5u7U1QY9k-k"
      },
      "execution_count": null,
      "outputs": []
    },
    {
      "cell_type": "markdown",
      "source": [
        "MÉDIA DO TAMANHO DAS STRINGS PARA ANÁLISE"
      ],
      "metadata": {
        "id": "PBPy58i_G925"
      }
    },
    {
      "cell_type": "code",
      "source": [
        "# Inicializar um dicionário para armazenar os comprimentos de strings\n",
        "lengths = {}\n",
        "\n",
        "# Loop sobre todas as colunas do DataFrame\n",
        "for col in df.columns:\n",
        "    # Verificar se a coluna contém strings\n",
        "    if df[col].dtype == 'object':\n",
        "        # Calcular o comprimento das strings e armazená-lo no dicionário\n",
        "        lengths[col] = df[col].str.len()\n",
        "\n",
        "# Converter o dicionário em um DataFrame\n",
        "lengths_df = pd.DataFrame(lengths)\n",
        "\n",
        "# Exibir o DataFrame com os comprimentos das strings\n",
        "lengths_df.mean()"
      ],
      "metadata": {
        "id": "dITvkWBrF2h9"
      },
      "execution_count": null,
      "outputs": []
    },
    {
      "cell_type": "code",
      "source": [
        "df.info()"
      ],
      "metadata": {
        "id": "GEYdy2huJSIh"
      },
      "execution_count": null,
      "outputs": []
    },
    {
      "cell_type": "markdown",
      "source": [
        "# **DESCRIBE MISSING DATA**"
      ],
      "metadata": {
        "id": "uGc8VJu4cZRN"
      }
    },
    {
      "cell_type": "code",
      "source": [
        "# Definir um formato para os valores ausentes\n",
        "missing_format = {'NOTA_MEDIA': 'Non-missing',\n",
        "                  'NOTA_REDACAO': 'Non-missing',\n",
        "                  'NOTA_MATEMATICA': 'Non-missing',\n",
        "                  'NOTA_LINGUAGENS_E_CODIGOS': 'Non-missing',\n",
        "                  'NOTA_CIENCIAS_HUMANAS': 'Non-missing',\n",
        "                  'NOTA_CIENCIAS_DA_NATUREZA': 'Non-missing'}\n",
        "\n",
        "# Calcular as frequências de valores ausentes\n",
        "missing_data = df[['NOTA_MEDIA', 'NOTA_REDACAO', 'NOTA_MATEMATICA',\n",
        "                   'NOTA_LINGUAGENS_E_CODIGOS', 'NOTA_CIENCIAS_HUMANAS',\n",
        "                   'NOTA_CIENCIAS_DA_NATUREZA']].isnull().sum()\n",
        "\n",
        "# Plotar as frequências de valores ausentes\n",
        "plt.figure(figsize=(10, 6))\n",
        "sns.barplot(x=missing_data.index, y=missing_data.values, palette='viridis')\n",
        "plt.title('Frequências de Dados Ausentes')\n",
        "plt.xlabel('Variável')\n",
        "plt.ylabel('Frequência de Dados Ausentes')\n",
        "plt.xticks(rotation=45)\n",
        "plt.tight_layout()\n",
        "plt.show()\n",
        "\n",
        "# Imprimir os padrões de dados ausentes\n",
        "print(\"Padrões de Dados Ausentes:\")\n",
        "print(df[['NOTA_MEDIA', 'NOTA_REDACAO', 'NOTA_MATEMATICA',\n",
        "          'NOTA_LINGUAGENS_E_CODIGOS', 'NOTA_CIENCIAS_HUMANAS',\n",
        "          'NOTA_CIENCIAS_DA_NATUREZA']].isnull().sum())\n"
      ],
      "metadata": {
        "id": "vRbjXID9RNGi"
      },
      "execution_count": null,
      "outputs": []
    },
    {
      "cell_type": "markdown",
      "source": [
        "# **CHARACTERIZATION DATA**"
      ],
      "metadata": {
        "id": "DUTHy_X7fHU_"
      }
    },
    {
      "cell_type": "markdown",
      "source": [
        "Informação apurada sobre os dados, envolvendo agrupamentos e distribuição de frequeência"
      ],
      "metadata": {
        "id": "eThXiWd4fRPk"
      }
    },
    {
      "cell_type": "code",
      "source": [
        "# Frequências para variáveis categóricas\n",
        "categorical_vars = ['Sigla_UF_Prova', 'Lingua_Estrangeira',\n",
        "                    'Situacao_Funcionamento_Escola', 'Localizacao_Escola', 'Tipo_Ensino',\n",
        "                    'Tipo_Escola', 'Dependencia_Administrat_Escola', 'Ano_Conclusao',\n",
        "                    'Situacao_Conclusao', 'Nacionalidade', 'Cor_Raca', 'Estado_Civil',\n",
        "                    'Sexo', 'Faixa_Etaria']\n",
        "\n",
        "for var in categorical_vars:\n",
        "    plt.figure(figsize=(10, 6))\n",
        "    sns.countplot(data=df, x=var, palette='viridis')\n",
        "    plt.title(f\"Frequências para {var}\")\n",
        "    plt.xlabel(var)\n",
        "    plt.ylabel('Contagem')\n",
        "    plt.xticks(rotation=45)\n",
        "    plt.tight_layout()\n",
        "    plt.show()\n",
        "\n",
        "# Estatísticas descritivas para variáveis numéricas\n",
        "numeric_vars = ['NOTA_MEDIA', 'NOTA_REDACAO', 'NOTA_MATEMATICA', 'NOTA_LINGUAGENS_E_CODIGOS',\n",
        "                'NOTA_CIENCIAS_HUMANAS', 'NOTA_CIENCIAS_DA_NATUREZA']\n",
        "\n",
        "print(\"Descriptive Statistics for Numeric Variables:\")\n",
        "print(df[numeric_vars].describe())\n",
        "\n",
        "# Histogramas para variáveis numéricas\n",
        "for var in numeric_vars:\n",
        "    plt.figure(figsize=(8, 5))\n",
        "    sns.histplot(data=df, x=var, kde=True, color='skyblue')\n",
        "    plt.title(f\"Histograma de {var}\")\n",
        "    plt.xlabel(var)\n",
        "    plt.ylabel('Contagem')\n",
        "    plt.tight_layout()\n",
        "    plt.show()"
      ],
      "metadata": {
        "id": "AfbEnXwffFTA"
      },
      "execution_count": null,
      "outputs": []
    },
    {
      "cell_type": "markdown",
      "source": [],
      "metadata": {
        "id": "97jLUAtUioyj"
      }
    },
    {
      "cell_type": "markdown",
      "source": [
        "# **LIST DATA**"
      ],
      "metadata": {
        "id": "RTYwcYUSiq7Q"
      }
    },
    {
      "cell_type": "markdown",
      "source": [
        "LISTAGEM DA NOTA DE MATEMATICA POR SEXO"
      ],
      "metadata": {
        "id": "gxTF4gTFPEfh"
      }
    },
    {
      "cell_type": "code",
      "source": [
        "# Ordenar a base de dados inteira\n",
        "df.sort_values(by=['Sexo', 'NOTA_MATEMATICA'])  # Ordena primeiro por Sexo e depois por NOTA_MATEMATICA\n"
      ],
      "metadata": {
        "id": "Dop8WsKViwga"
      },
      "execution_count": null,
      "outputs": []
    }
  ]
}